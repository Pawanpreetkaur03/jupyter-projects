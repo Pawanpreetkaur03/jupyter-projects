{
 "cells": [
  {
   "cell_type": "code",
   "execution_count": null,
   "id": "54f97d69",
   "metadata": {},
   "outputs": [],
   "source": [
    "import numpy as np\n",
    "import matplotlib.pyplot as plt\n",
    "\n",
    "#Set boundaries for random quantities\n",
    "min_quantity = 50\n",
    "max_quantity = 300\n",
    "\n",
    "np.random.seed(40)\n",
    "\n",
    "#Generate random quantities for week 1 & week 2\n",
    "week_1_quantities = np.random.randint(min_quantity, max_quantity, size=3)\n",
    "week_2_quantities = week_1_quantities + np.random.randint(-20, 20, size=3)\n",
    "\n",
    "#Product names for the labels\n",
    "products = ['T-shirts', 'Jeans', 'Hats']\n",
    "\n",
    "week_1_array = np.array(week_1_quantities) #array for week 1\n",
    "week_2_array = np.array(week_2_quantities) #array for week 2\n",
    "\n",
    "#Print the properties of the arrays\n",
    "print(\"Week 1 Quantities:\", week_1_array)\n",
    "print(\"shape for week 1:\", week_1_array.shape)\n",
    "\n",
    "print(\"Week 2 Quantities:\", week_2_array)\n",
    "print(\"shape for week 2:\", week_2_array.shape)\n",
    "\n",
    "#Calculate the change in quantities\n",
    "quantity_change = week_2_array - week_1_array\n",
    "print(\"\\nchange in quantities:\", quantity_change)\n",
    "\n",
    "#Prices for the products\n",
    "prices = np.array([10, 15, 20]) #prices for T-shirts, Jeans, & Hats\n",
    "inventory_value_change = np.dot(quantity_change, prices)\n",
    "print(\"\\inventory_value_change:\", inventory_value_change)\n",
    "\n",
    "#Concatenate the data into a 2d array\n",
    "inventory_data = np.concatenate(([week_1_array],[week_2_array]))\n",
    "print(\"\\nInventory Data:\", inventory_data)\n",
    "print(\"Shape of Inventory Data:\", inventory_data.shape)\n",
    "print(\"Numbers of dimensions:\", inventory_data.ndim)\n",
    "\n",
    "#Plotting\n",
    "plt.plot(products, week_1_array, marker='o', label='Week 1', color='blue')\n",
    "plt.plot(products, week_2_array, marker='o', label='Week 2', color='orange')\n",
    "\n",
    "#Adding lables and title\n",
    "plt.xlabel('Products')\n",
    "plt.ylabel('Quantities')\n",
    "plt.title('Inventory Levels: Week 1 vs Week 2')\n",
    "plt.legend()\n",
    "\n",
    "#Show plot \n",
    "plt.grid()\n",
    "plt.show()"
   ]
  }
 ],
 "metadata": {
  "kernelspec": {
   "display_name": "base",
   "language": "python",
   "name": "python3"
  },
  "language_info": {
   "codemirror_mode": {
    "name": "ipython",
    "version": 3
   },
   "file_extension": ".py",
   "mimetype": "text/x-python",
   "name": "python",
   "nbconvert_exporter": "python",
   "pygments_lexer": "ipython3",
   "version": "3.12.7"
  }
 },
 "nbformat": 4,
 "nbformat_minor": 5
}
